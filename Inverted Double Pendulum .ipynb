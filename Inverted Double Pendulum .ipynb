{
 "cells": [
  {
   "cell_type": "code",
   "execution_count": 17,
   "id": "c4f39d01",
   "metadata": {},
   "outputs": [],
   "source": [
    "import numpy as np\n",
    "import sympy as smp\n",
    "from scipy.integrate import odeint\n",
    "import matplotlib.pyplot as plt\n",
    "from matplotlib import animation\n",
    "from mpl_toolkits.mplot3d import Axes3D\n",
    "from matplotlib.animation import PillowWriter"
   ]
  },
  {
   "cell_type": "code",
   "execution_count": 2,
   "id": "a86933e4",
   "metadata": {},
   "outputs": [],
   "source": [
    "t,g=smp.symbols('t g')"
   ]
  },
  {
   "cell_type": "markdown",
   "id": "477f1722",
   "metadata": {},
   "source": [
    "Mass of the cart M\n",
    "m1 m2 are the mass of pendulum 1 & 2\n",
    "L1 & L2 are the length of pendulum 1 & 2"
   ]
  },
  {
   "cell_type": "code",
   "execution_count": 3,
   "id": "c34388ef",
   "metadata": {},
   "outputs": [],
   "source": [
    "m1,m2=smp.symbols('m1 m2')\n",
    "L1,L2=smp.symbols('L1 L2')"
   ]
  },
  {
   "cell_type": "markdown",
   "id": "0256a2ca",
   "metadata": {},
   "source": [
    "Theta 1 & Theta 2 are the angles that the pendulum create with the parallel surface of the cart"
   ]
  },
  {
   "cell_type": "code",
   "execution_count": 4,
   "id": "ff53a6fe",
   "metadata": {},
   "outputs": [
    {
     "data": {
      "text/latex": [
       "$\\displaystyle \\theta1{\\left(t \\right)}$"
      ],
      "text/plain": [
       "\\theta1(t)"
      ]
     },
     "execution_count": 4,
     "metadata": {},
     "output_type": "execute_result"
    }
   ],
   "source": [
    "theta1,theta2=smp.symbols(r'\\theta1 \\theta2',cls=smp.Function)\n",
    "theta1=theta1(t)\n",
    "theta2=theta2(t)\n",
    "\n",
    "theta1"
   ]
  },
  {
   "cell_type": "code",
   "execution_count": 5,
   "id": "3a84f2a6",
   "metadata": {},
   "outputs": [],
   "source": [
    "theta1_d=smp.diff(theta1,t)\n",
    "theta2_d = smp.diff(theta2, t)\n",
    "theta1_dd = smp.diff(theta1_d, t)\n",
    "theta2_dd = smp.diff(theta2_d, t)"
   ]
  },
  {
   "cell_type": "raw",
   "id": "d3709fed",
   "metadata": {},
   "source": [
    "Taking variables"
   ]
  },
  {
   "cell_type": "code",
   "execution_count": 6,
   "id": "2534b778",
   "metadata": {},
   "outputs": [],
   "source": [
    "x1 = L1*smp.sin(theta1)\n",
    "y1 = L1*smp.cos(theta1)\n",
    "x2 = L2*smp.sin(theta2)\n",
    "y2 = L2*smp.cos(theta2)"
   ]
  },
  {
   "cell_type": "markdown",
   "id": "a071485b",
   "metadata": {},
   "source": [
    "Kinetic Energy"
   ]
  },
  {
   "cell_type": "code",
   "execution_count": 7,
   "id": "e0a563cd",
   "metadata": {},
   "outputs": [
    {
     "data": {
      "text/latex": [
       "$\\displaystyle 0.5 m_{1} \\left(L_{1}^{2} \\sin^{2}{\\left(\\theta1{\\left(t \\right)} \\right)} \\left(\\frac{d}{d t} \\theta1{\\left(t \\right)}\\right)^{2} + L_{1}^{2} \\cos^{2}{\\left(\\theta1{\\left(t \\right)} \\right)} \\left(\\frac{d}{d t} \\theta1{\\left(t \\right)}\\right)^{2}\\right) + 0.5 m_{2} \\left(\\left(L_{1} \\sin{\\left(\\theta1{\\left(t \\right)} \\right)} \\frac{d}{d t} \\theta1{\\left(t \\right)} + L_{2} \\sin{\\left(\\theta2{\\left(t \\right)} \\right)} \\frac{d}{d t} \\theta2{\\left(t \\right)}\\right)^{2} + \\left(L_{1} \\cos{\\left(\\theta1{\\left(t \\right)} \\right)} \\frac{d}{d t} \\theta1{\\left(t \\right)} + L_{2} \\cos{\\left(\\theta2{\\left(t \\right)} \\right)} \\frac{d}{d t} \\theta2{\\left(t \\right)}\\right)^{2}\\right)$"
      ],
      "text/plain": [
       "0.5*m1*(L1**2*sin(\\theta1(t))**2*Derivative(\\theta1(t), t)**2 + L1**2*cos(\\theta1(t))**2*Derivative(\\theta1(t), t)**2) + 0.5*m2*((L1*sin(\\theta1(t))*Derivative(\\theta1(t), t) + L2*sin(\\theta2(t))*Derivative(\\theta2(t), t))**2 + (L1*cos(\\theta1(t))*Derivative(\\theta1(t), t) + L2*cos(\\theta2(t))*Derivative(\\theta2(t), t))**2)"
      ]
     },
     "execution_count": 7,
     "metadata": {},
     "output_type": "execute_result"
    }
   ],
   "source": [
    "K=0.5*(m1*((theta1_d*y1)**2+(theta1_d*x1)**2)+m2*((y1*theta1_d+y2*theta2_d)**2+(x1*theta1_d+x2*theta2_d)**2))\n",
    "K"
   ]
  },
  {
   "cell_type": "raw",
   "id": "90bc804e",
   "metadata": {},
   "source": [
    "Potential Energy"
   ]
  },
  {
   "cell_type": "code",
   "execution_count": 8,
   "id": "7ac75ebb",
   "metadata": {},
   "outputs": [
    {
     "data": {
      "text/latex": [
       "$\\displaystyle g \\left(L_{1} m_{1} \\cos{\\left(\\theta1{\\left(t \\right)} \\right)} + m_{2} \\left(L_{1} \\cos{\\left(\\theta1{\\left(t \\right)} \\right)} + L_{2} \\cos{\\left(\\theta2{\\left(t \\right)} \\right)}\\right)\\right)$"
      ],
      "text/plain": [
       "g*(L1*m1*cos(\\theta1(t)) + m2*(L1*cos(\\theta1(t)) + L2*cos(\\theta2(t))))"
      ]
     },
     "execution_count": 8,
     "metadata": {},
     "output_type": "execute_result"
    }
   ],
   "source": [
    "P=g*(m1*y1+m2*(y1+y2))\n",
    "P"
   ]
  },
  {
   "cell_type": "raw",
   "id": "16f2d47c",
   "metadata": {},
   "source": [
    "Lagrangian"
   ]
  },
  {
   "cell_type": "code",
   "execution_count": 9,
   "id": "09378921",
   "metadata": {},
   "outputs": [
    {
     "data": {
      "text/latex": [
       "$\\displaystyle - g \\left(L_{1} m_{1} \\cos{\\left(\\theta1{\\left(t \\right)} \\right)} + m_{2} \\left(L_{1} \\cos{\\left(\\theta1{\\left(t \\right)} \\right)} + L_{2} \\cos{\\left(\\theta2{\\left(t \\right)} \\right)}\\right)\\right) + 0.5 m_{1} \\left(L_{1}^{2} \\sin^{2}{\\left(\\theta1{\\left(t \\right)} \\right)} \\left(\\frac{d}{d t} \\theta1{\\left(t \\right)}\\right)^{2} + L_{1}^{2} \\cos^{2}{\\left(\\theta1{\\left(t \\right)} \\right)} \\left(\\frac{d}{d t} \\theta1{\\left(t \\right)}\\right)^{2}\\right) + 0.5 m_{2} \\left(\\left(L_{1} \\sin{\\left(\\theta1{\\left(t \\right)} \\right)} \\frac{d}{d t} \\theta1{\\left(t \\right)} + L_{2} \\sin{\\left(\\theta2{\\left(t \\right)} \\right)} \\frac{d}{d t} \\theta2{\\left(t \\right)}\\right)^{2} + \\left(L_{1} \\cos{\\left(\\theta1{\\left(t \\right)} \\right)} \\frac{d}{d t} \\theta1{\\left(t \\right)} + L_{2} \\cos{\\left(\\theta2{\\left(t \\right)} \\right)} \\frac{d}{d t} \\theta2{\\left(t \\right)}\\right)^{2}\\right)$"
      ],
      "text/plain": [
       "-g*(L1*m1*cos(\\theta1(t)) + m2*(L1*cos(\\theta1(t)) + L2*cos(\\theta2(t)))) + 0.5*m1*(L1**2*sin(\\theta1(t))**2*Derivative(\\theta1(t), t)**2 + L1**2*cos(\\theta1(t))**2*Derivative(\\theta1(t), t)**2) + 0.5*m2*((L1*sin(\\theta1(t))*Derivative(\\theta1(t), t) + L2*sin(\\theta2(t))*Derivative(\\theta2(t), t))**2 + (L1*cos(\\theta1(t))*Derivative(\\theta1(t), t) + L2*cos(\\theta2(t))*Derivative(\\theta2(t), t))**2)"
      ]
     },
     "execution_count": 9,
     "metadata": {},
     "output_type": "execute_result"
    }
   ],
   "source": [
    "L=K-P\n",
    "L"
   ]
  },
  {
   "cell_type": "code",
   "execution_count": 10,
   "id": "0c247b49",
   "metadata": {},
   "outputs": [],
   "source": [
    "LE1 = smp.diff(L,theta1) - smp.diff(smp.diff(L,theta1_d), t).simplify()\n",
    "LE2 = smp.diff(L,theta2) - smp.diff(smp.diff(L,theta2_d), t).simplify()"
   ]
  },
  {
   "cell_type": "code",
   "execution_count": 11,
   "id": "9bb6a6d3",
   "metadata": {},
   "outputs": [],
   "source": [
    "sols = smp.solve([LE1, LE2], (theta1_dd, theta2_dd),\n",
    "                simplify=False, rational=False)"
   ]
  },
  {
   "cell_type": "code",
   "execution_count": 12,
   "id": "4a2ec6de",
   "metadata": {},
   "outputs": [],
   "source": [
    "dz1dt_f = smp.lambdify((t,g,m1,m2,L1,L2,theta1,theta2,theta1_d,theta2_d), sols[theta1_dd])\n",
    "dz2dt_f = smp.lambdify((t,g,m1,m2,L1,L2,theta1,theta2,theta1_d,theta2_d), sols[theta2_dd])\n",
    "dthe1dt_f = smp.lambdify(theta1_d, theta1_d)\n",
    "dthe2dt_f = smp.lambdify(theta2_d, theta2_d)"
   ]
  },
  {
   "cell_type": "code",
   "execution_count": 13,
   "id": "4fedd6eb",
   "metadata": {},
   "outputs": [],
   "source": [
    "def dSdt(S, t, g, m1, m2, L1, L2):\n",
    "    theta1, z1, theta2, z2 = S\n",
    "    return [\n",
    "        dthe1dt_f(z1),\n",
    "        dz1dt_f(t, g, m1, m2, L1, L2, theta1, theta2, z1, z2),\n",
    "        dthe2dt_f(z2),\n",
    "        dz2dt_f(t, g, m1, m2, L1, L2, theta1, theta2, z1, z2),\n",
    "    ]"
   ]
  },
  {
   "cell_type": "raw",
   "id": "dda41df4",
   "metadata": {},
   "source": [
    "Solve the system of ODEs using scipys odeint method"
   ]
  },
  {
   "cell_type": "code",
   "execution_count": 16,
   "id": "5c45658b",
   "metadata": {},
   "outputs": [],
   "source": [
    "t = np.linspace(0, 40, 1001)\n",
    "g = 9.8\n",
    "m1=2\n",
    "m2=5\n",
    "L1 = 2\n",
    "L2 = 1\n",
    "ans = odeint(dSdt, y0=[1, -3, -1, 5], t=t, args=(g,m1,m2,L1,L2))"
   ]
  },
  {
   "cell_type": "code",
   "execution_count": 15,
   "id": "df338552",
   "metadata": {},
   "outputs": [
    {
     "data": {
      "text/plain": [
       "array([[   1.        ,    0.87609694,    0.74072756, ..., -139.2606501 ,\n",
       "        -139.37547138, -139.48844684],\n",
       "       [  -3.        ,   -3.21501364,   -3.58769986, ...,   -2.91385624,\n",
       "          -2.83817367,   -2.8180837 ],\n",
       "       [  -1.        ,   -0.78880255,   -0.54712807, ...,  239.91784606,\n",
       "         240.10070869,  240.27216463],\n",
       "       [   5.        ,    5.60191305,    6.56395447, ...,    4.74702342,\n",
       "           4.4136189 ,    4.1743952 ]])"
      ]
     },
     "execution_count": 15,
     "metadata": {},
     "output_type": "execute_result"
    }
   ],
   "source": [
    "ans.T"
   ]
  },
  {
   "cell_type": "code",
   "execution_count": 81,
   "id": "4888d294",
   "metadata": {},
   "outputs": [],
   "source": [
    "heta1 = ans.T[0]\n",
    "theta2 = ans.T[2]"
   ]
  },
  {
   "cell_type": "code",
   "execution_count": 82,
   "id": "4b955503",
   "metadata": {},
   "outputs": [
    {
     "data": {
      "text/plain": [
       "[<matplotlib.lines.Line2D at 0x23fe2c281f0>]"
      ]
     },
     "execution_count": 82,
     "metadata": {},
     "output_type": "execute_result"
    },
    {
     "data": {
      "image/png": "[encoded data removed]",
      "text/plain": [
       "<Figure size 432x288 with 1 Axes>"
      ]
     },
     "metadata": {
      "needs_background": "light"
     },
     "output_type": "display_data"
    }
   ],
   "source": [
    "plt.plot(t, theta2)"
   ]
  },
  {
   "cell_type": "code",
   "execution_count": 83,
   "id": "c1395073",
   "metadata": {},
   "outputs": [],
   "source": [
    "def get_x1y1x2y2(t, theta1, theta2, L1, L2):\n",
    "    return (L1*np.sin(theta1),\n",
    "            -L1*np.cos(theta1),\n",
    "            L1*np.sin(theta1) + L2*np.sin(theta2),\n",
    "            -L1*np.cos(theta1) - L2*np.cos(theta2))"
   ]
  },
  {
   "cell_type": "code",
   "execution_count": 85,
   "id": "0891fd18",
   "metadata": {},
   "outputs": [],
   "source": [
    "x1, y1, x2, y2 = get_x1y1x2y2(t, ans.T[0], ans.T[2], L1, L2)"
   ]
  },
  {
   "cell_type": "code",
   "execution_count": 86,
   "id": "f8bd2135",
   "metadata": {},
   "outputs": [
    {
     "data": {
      "image/png": "[encoded data removed]",
      "text/plain": [
       "<Figure size 576x576 with 1 Axes>"
      ]
     },
     "metadata": {},
     "output_type": "display_data"
    }
   ],
   "source": [
    "def animate(i):\n",
    "    ln1.set_data([0, x1[i], x2[i]], [0, y1[i], y2[i]])\n",
    "    \n",
    "fig, ax = plt.subplots(1,1, figsize=(8,8))\n",
    "ax.set_facecolor('w')\n",
    "ax.get_xaxis().set_ticks([])    # enable this to hide x axis ticks\n",
    "ax.get_yaxis().set_ticks([])    # enable this to hide y axis ticks\n",
    "ln1, = plt.plot([], [], 'ro--', lw=3, markersize=8)\n",
    "ax.set_ylim(-4,4)\n",
    "ax.set_xlim(-4,4)\n",
    "ani = animation.FuncAnimation(fig,animate, frames=100, interval=50)\n",
    "ani.save('pen.gif',writer='pillow',fps=25)"
   ]
  },
  {
   "cell_type": "code",
   "execution_count": null,
   "id": "dbe321e8",
   "metadata": {},
   "outputs": [],
   "source": []
  }
 ],
 "metadata": {
  "kernelspec": {
   "display_name": "Python 3 (ipykernel)",
   "language": "python",
   "name": "python3"
  },
  "language_info": {
   "codemirror_mode": {
    "name": "ipython",
    "version": 3
   },
   "file_extension": ".py",
   "mimetype": "text/x-python",
   "name": "python",
   "nbconvert_exporter": "python",
   "pygments_lexer": "ipython3",
   "version": "3.9.12"
  }
 },
 "nbformat": 4,
 "nbformat_minor": 5
}
